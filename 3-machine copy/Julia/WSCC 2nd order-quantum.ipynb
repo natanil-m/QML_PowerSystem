{
 "cells": [
  {
   "cell_type": "code",
   "execution_count": 1,
   "id": "5baffeb0",
   "metadata": {},
   "outputs": [],
   "source": [
    "using DifferentialEquations, ModelingToolkit, QuDiffEq, OrdinaryDiffEq, LinearAlgebra, Plots"
   ]
  },
  {
   "cell_type": "code",
   "execution_count": 2,
   "id": "0ba9bdd5",
   "metadata": {},
   "outputs": [
    {
     "ename": "ErrorException",
     "evalue": "syntax: extra token \"3\" after end of expression",
     "output_type": "error",
     "traceback": [
      "syntax: extra token \"3\" after end of expression\n",
      "\n",
      "Stacktrace:\n",
      " [1] top-level scope\n",
      "   @ c:\\Git repo\\QML_PowerSystem\\QML_PowerSystem\\3-machine\\Julia\\WSCC 2nd order-quantum.ipynb:1"
     ]
    }
   ],
   "source": [
    "WSCC 3 machine 9 bus power system simulation by solving DAE using Mass Matrix DAE. \n",
    "\n",
    "We consider the system was simulated 0 to 10 seconds and then a three-phase fault occured near bus 7 at the end of line 5-7 and cleared in five cycles (0.083s) by opening line 5-7. \n",
    "\n",
    "We have three DAE problem to solve( 0-10s,10-10.086s and 10.086-20s). \n",
    "\n",
    "We have 3  different Y matix for pre fault, fault on and post fault condition.\n",
    "\n",
    "System data, equations were taken from BWang's paper"
   ]
  },
  {
   "cell_type": "code",
   "execution_count": 3,
   "id": "781affe9",
   "metadata": {},
   "outputs": [
    {
     "data": {
      "text/plain": [
       "Ps (generic function with 1 method)"
      ]
     },
     "metadata": {},
     "output_type": "display_data"
    }
   ],
   "source": [
    "# Defining the variables, parameters, deifferential equations, algebraic equations\n",
    "\n",
    "function Ps(du, u, p, t)\n",
    "    del1, w1, del2, w2, del3, w3, P_e1, P_e2, P_e3 = u\n",
    "    Ws, H1, H2, H3,   D1, D2, D3,  P_m1, P_m2, P_m3,    X_d_p1, X_d_p2, X_d_p3,    e_q_p1, e_q_p2, e_q_p3,    R_a1, R_a2, R_a3, \n",
    "    a_11, a_12, a_13, a_14, a_15, a_16, a_21, a_22, a_23, a_24, a_25, a_26, a_31, a_32, a_33, a_34, a_35, a_36, a_41, a_42,\n",
    "    a_43, a_44, a_45, a_46, a_51, a_52, a_53, a_54, a_55, a_56, a_61, a_62, a_63, a_64, a_65, a_66= p\n",
    "    \n",
    "\n",
    "    du[1] = Ws*(w1-1)\n",
    "    du[2] = (P_m1-P_e1-D1*(w1*Ws-Ws))/(2*H1)\n",
    "    du[3] = Ws*(w2-1)\n",
    "    du[4] = (P_m2-P_e2-D2*(w2*Ws-Ws))/(2*H2)\n",
    "    du[5] = Ws*(w3-1)\n",
    "    du[6] = (P_m3-P_e3-D3*(w3*Ws-Ws))/(2*H3)\n",
    "    du[7] = -P_e1+(-R_a1*(a_11*e_q_p1*cos(del1) + a_12*e_q_p1*sin(del1) + a_13*e_q_p2*cos(del2) + a_14*e_q_p2*sin(del2) \n",
    "            + a_15*e_q_p3*cos(del3) + a_16*e_q_p3*sin(del3)) + X_d_p1*(a_21*e_q_p1*cos(del1) + a_22*e_q_p1*sin(del1) \n",
    "            + a_23*e_q_p2*cos(del2) + a_24*e_q_p2*sin(del2) + a_25*e_q_p3*cos(del3) + a_26*e_q_p3*sin(del3)) \n",
    "            + e_q_p1*cos(del1))*(a_11*e_q_p1*cos(del1) + a_12*e_q_p1*sin(del1) + a_13*e_q_p2*cos(del2) + a_14*e_q_p2*sin(del2) \n",
    "            + a_15*e_q_p3*cos(del3) + a_16*e_q_p3*sin(del3)) + (-R_a1*(a_21*e_q_p1*cos(del1) + a_22*e_q_p1*sin(del1) \n",
    "            + a_23*e_q_p2*cos(del2) + a_24*e_q_p2*sin(del2) + a_25*e_q_p3*cos(del3) + a_26*e_q_p3*sin(del3)) \n",
    "            - X_d_p1*(a_11*e_q_p1*cos(del1) + a_12*e_q_p1*sin(del1) + a_13*e_q_p2*cos(del2) + a_14*e_q_p2*sin(del2) \n",
    "            + a_15*e_q_p3*cos(del3) + a_16*e_q_p3*sin(del3)) + e_q_p1*sin(del1))*(a_21*e_q_p1*cos(del1) + a_22*e_q_p1*sin(del1) \n",
    "            + a_23*e_q_p2*cos(del2) + a_24*e_q_p2*sin(del2) + a_25*e_q_p3*cos(del3) + a_26*e_q_p3*sin(del3))\n",
    "    du[8] = -P_e2+(-R_a2*(a_31*e_q_p1*cos(del1) + a_32*e_q_p1*sin(del1) + a_33*e_q_p2*cos(del2) + a_34*e_q_p2*sin(del2) \n",
    "            + a_35*e_q_p3*cos(del3) + a_36*e_q_p3*sin(del3)) + X_d_p2*(a_41*e_q_p1*cos(del1) + a_42*e_q_p1*sin(del1) \n",
    "            + a_43*e_q_p2*cos(del2) + a_44*e_q_p2*sin(del2) + a_45*e_q_p3*cos(del3) + a_46*e_q_p3*sin(del3)) \n",
    "            + e_q_p2*cos(del2))*(a_31*e_q_p1*cos(del1) + a_32*e_q_p1*sin(del1) + a_33*e_q_p2*cos(del2) + a_34*e_q_p2*sin(del2) \n",
    "            + a_35*e_q_p3*cos(del3) + a_36*e_q_p3*sin(del3)) + (-R_a2*(a_41*e_q_p1*cos(del1) + a_42*e_q_p1*sin(del1) \n",
    "            + a_43*e_q_p2*cos(del2) + a_44*e_q_p2*sin(del2) + a_45*e_q_p3*cos(del3) + a_46*e_q_p3*sin(del3)) \n",
    "            - X_d_p2*(a_31*e_q_p1*cos(del1) + a_32*e_q_p1*sin(del1) + a_33*e_q_p2*cos(del2) + a_34*e_q_p2*sin(del2) \n",
    "            + a_35*e_q_p3*cos(del3) + a_36*e_q_p3*sin(del3)) + e_q_p2*sin(del2))*(a_41*e_q_p1*cos(del1) + a_42*e_q_p1*sin(del1) \n",
    "            + a_43*e_q_p2*cos(del2) + a_44*e_q_p2*sin(del2) + a_45*e_q_p3*cos(del3) + a_46*e_q_p3*sin(del3))\n",
    "    du[9] = -P_e3+(-R_a3*(a_51*e_q_p1*cos(del1) + a_52*e_q_p1*sin(del1) + a_53*e_q_p2*cos(del2) + a_54*e_q_p2*sin(del2) \n",
    "            + a_55*e_q_p3*cos(del3) + a_56*e_q_p3*sin(del3)) + X_d_p3*(a_61*e_q_p1*cos(del1) + a_62*e_q_p1*sin(del1) \n",
    "            + a_63*e_q_p2*cos(del2) + a_64*e_q_p2*sin(del2) + a_65*e_q_p3*cos(del3) + a_66*e_q_p3*sin(del3)) \n",
    "            + e_q_p3*cos(del3))*(a_51*e_q_p1*cos(del1) + a_52*e_q_p1*sin(del1) + a_53*e_q_p2*cos(del2) + a_54*e_q_p2*sin(del2) \n",
    "            + a_55*e_q_p3*cos(del3) + a_56*e_q_p3*sin(del3)) + (-R_a3*(a_61*e_q_p1*cos(del1) + a_62*e_q_p1*sin(del1) \n",
    "            + a_63*e_q_p2*cos(del2) + a_64*e_q_p2*sin(del2) + a_65*e_q_p3*cos(del3) + a_66*e_q_p3*sin(del3)) \n",
    "            - X_d_p3*(a_51*e_q_p1*cos(del1) + a_52*e_q_p1*sin(del1) + a_53*e_q_p2*cos(del2) + a_54*e_q_p2*sin(del2) \n",
    "            + a_55*e_q_p3*cos(del3) + a_56*e_q_p3*sin(del3)) + e_q_p3*sin(del3))*(a_61*e_q_p1*cos(del1) + a_62*e_q_p1*sin(del1) \n",
    "            + a_63*e_q_p2*cos(del2) + a_64*e_q_p2*sin(del2) + a_65*e_q_p3*cos(del3) + a_66*e_q_p3*sin(del3))\n",
    "    nothing\n",
    "end"
   ]
  },
  {
   "cell_type": "code",
   "execution_count": 4,
   "id": "322ec277",
   "metadata": {},
   "outputs": [
    {
     "data": {
      "text/plain": [
       "9×9 Matrix{Float64}:\n",
       " 1.0  0.0  0.0  0.0  0.0  0.0  0.0  0.0  0.0\n",
       " 0.0  1.0  0.0  0.0  0.0  0.0  0.0  0.0  0.0\n",
       " 0.0  0.0  1.0  0.0  0.0  0.0  0.0  0.0  0.0\n",
       " 0.0  0.0  0.0  1.0  0.0  0.0  0.0  0.0  0.0\n",
       " 0.0  0.0  0.0  0.0  1.0  0.0  0.0  0.0  0.0\n",
       " 0.0  0.0  0.0  0.0  0.0  1.0  0.0  0.0  0.0\n",
       " 0.0  0.0  0.0  0.0  0.0  0.0  0.0  0.0  0.0\n",
       " 0.0  0.0  0.0  0.0  0.0  0.0  0.0  0.0  0.0\n",
       " 0.0  0.0  0.0  0.0  0.0  0.0  0.0  0.0  0.0"
      ]
     },
     "metadata": {},
     "output_type": "display_data"
    }
   ],
   "source": [
    "# Mass matrix \n",
    "\n",
    "M = [1. 0. 0. 0. 0. 0. 0. 0. 0.\n",
    " 0. 1. 0. 0. 0. 0. 0. 0. 0.\n",
    " 0. 0. 1. 0. 0. 0. 0. 0. 0.\n",
    " 0. 0. 0. 1. 0. 0. 0. 0. 0.\n",
    " 0. 0. 0. 0. 1. 0. 0. 0. 0.\n",
    " 0. 0. 0. 0. 0. 1. 0. 0. 0.\n",
    " 0. 0. 0. 0. 0. 0. 0. 0. 0.\n",
    " 0. 0. 0. 0. 0. 0. 0. 0. 0.\n",
    " 0. 0. 0. 0. 0. 0. 0. 0. 0.]"
   ]
  },
  {
   "cell_type": "code",
   "execution_count": 5,
   "id": "584a99a2",
   "metadata": {
    "scrolled": true
   },
   "outputs": [
    {
     "data": {
      "text/plain": [
       "(::ODEFunction{true, SciMLBase.FullSpecialize, typeof(Ps), Matrix{Float64}, Nothing, Nothing, Nothing, Nothing, Nothing, Nothing, Nothing, Nothing, Nothing, Nothing, Nothing, Nothing, Nothing, Nothing, typeof(SciMLBase.DEFAULT_OBSERVED), Nothing, Nothing}) (generic function with 1 method)"
      ]
     },
     "metadata": {},
     "output_type": "display_data"
    }
   ],
   "source": [
    "# DAE function\n",
    "\n",
    "f = ODEFunction(Ps, mass_matrix = M)"
   ]
  },
  {
   "cell_type": "code",
   "execution_count": 6,
   "id": "77078d66",
   "metadata": {},
   "outputs": [
    {
     "data": {
      "text/plain": [
       "\u001b[38;2;86;182;194mODEProblem\u001b[0m with uType \u001b[38;2;86;182;194mVector{Float64}\u001b[0m and tType \u001b[38;2;86;182;194mFloat64\u001b[0m. In-place: \u001b[38;2;86;182;194mtrue\u001b[0m\n",
       "timespan: (0.0, 10.0)\n",
       "u0: 9-element Vector{Float64}:\n",
       " 0.0626\n",
       " 1.0\n",
       " 1.0567\n",
       " 1.0\n",
       " 0.9449\n",
       " 1.0\n",
       " 1.43824549482149\n",
       " 1.040964945989\n",
       " 0.757527164510807"
      ]
     },
     "metadata": {},
     "output_type": "display_data"
    }
   ],
   "source": [
    "# Pre fault DAE formulation for 0-10 seconds using the initial values from Data provided in BWang's paper\n",
    "# P_e1,Pe_2 and P_e3 calculated as per BWang's paper using the same data\n",
    "\n",
    "u10=[0.0626, 1,   1.0567, 1,   0.9449, 1,    1.43824549482149, 1.040964945989, 0.757527164510807] #del1, w1, del2, w2, del3, w3, P_e1, P_e2, P_e3\n",
    "tsp1=(0.0, 10)\n",
    "p10=(376.9911, 23.64, 6.4, 3.01,    23.64, 6.4, 3.01,    # Ws, H1, H2, H3,   D1, D2, D3\n",
    "    0.7164, 1.63, 0.85,   0.0608, 0.1198, 0.1813,       # P_m1, P_m2, P_m3,    X_d_p1, X_d_p2, X_d_p3\n",
    "    1.0566, 1.0502, 1.0170, 0, 0, 0,                    #e_q_p1, e_q_p2, e_q_p3,    R_a1, R_a2, R_a3\n",
    "    0.8455, 2.9883, 0.2871, -1.5129, 0.2096, -1.2256, -2.9883, 0.8455, 1.5129, 0.2871, 1.2256, 0.2096, # a11-a26 of Y\n",
    "    0.2871, -1.5129, 0.4200, 2.7239, 0.2133, -1.0879, 1.5129, 0.2871, -2.7239, 0.4200, 1.0879, 0.2133, # a31-a46 of Y\n",
    "    0.2096, -1.2256, 0.2133, -1.0879, 0.2770, 2.3681, 1.2256, 0.2096, 1.0879, 0.2133, -2.3681, 0.2770) # a51-a56 of Y\n",
    "\n",
    "prob1=ODEProblem(f, u10, tsp1, p10)"
   ]
  },
  {
   "cell_type": "code",
   "execution_count": 7,
   "id": "98c7aa04",
   "metadata": {},
   "outputs": [],
   "source": [
    "# prob1 = ODEProblem(f, [0.0626, 1, 1.0567, 1, 0.9449, 1, 1.43824549482149, 1.040964945989, 0.757527164510807  ], (0.0, 10), (376.9911, 23.64, 6.4, 3.01,    23.64, 6.4, 3.01,    0.7164, 1.63, 0.85,   0.0608, 0.1198, 0.1813, 1.0566, 1.0502, 1.0170, 0, 0, 0, 0.8455, 2.9883, 0.2871, -1.5129, 0.2096, -1.2256, -2.9883, 0.8455, 1.5129, 0.2871, 1.2256, 0.2096, 0.2871, -1.5129, 0.4200, 2.7239, 0.2133, -1.0879, 1.5129, 0.2871, -2.7239, 0.4200, 1.0879, 0.2133, 0.2096, -1.2256, 0.2133, -1.0879, 0.2770, 2.3681, 1.2256, 0.2096, 1.0879, 0.2133, -2.3681, 0.2770))"
   ]
  },
  {
   "cell_type": "code",
   "execution_count": 8,
   "id": "0dc8ba16",
   "metadata": {
    "scrolled": true
   },
   "outputs": [],
   "source": [
    "# Pre fault DAE classical solution of 6 variables (del1, w1, del2, w2, del3, w3)\n",
    "\n",
    "sol1 = solve(prob1, Rodas5(), reltol = 1e-4, abstol = 1e-4);"
   ]
  },
  {
   "cell_type": "code",
   "execution_count": 9,
   "id": "76a3d628",
   "metadata": {
    "scrolled": true
   },
   "outputs": [],
   "source": [
    "# Extracting pre fault classical solution for 6 variables plotting\n",
    "\n",
    "y1 = sol1[1, :];\n",
    "y2 = sol1[2, :];\n",
    "y3 = sol1[3, :];\n",
    "y4 = sol1[4, :];\n",
    "y5 = sol1[5, :];\n",
    "y6 = sol1[6, :];"
   ]
  },
  {
   "cell_type": "code",
   "execution_count": 10,
   "id": "54b07b07",
   "metadata": {},
   "outputs": [],
   "source": [
    "# Pre fault classical solution plot of del1\n",
    "\n",
    "# p1 = plot(sol1.t, y1, xlabel = \"t\", ylabel = \"del1\", legend = false)"
   ]
  },
  {
   "cell_type": "code",
   "execution_count": 11,
   "id": "75934490",
   "metadata": {},
   "outputs": [],
   "source": [
    "# Pre fault classical solution plot of w1\n",
    "\n",
    "# p2 = plot(sol1.t, y2, xlabel = \"t\", ylabel = \"w1\", legend = false)"
   ]
  },
  {
   "cell_type": "code",
   "execution_count": 12,
   "id": "5219c1d1",
   "metadata": {},
   "outputs": [],
   "source": [
    "# Pre fault classical solution plot of del2\n",
    "\n",
    "# p3 = plot(sol1.t, y3, xlabel = \"t\", ylabel = \"del2\", legend = false)"
   ]
  },
  {
   "cell_type": "code",
   "execution_count": 13,
   "id": "244a90cb",
   "metadata": {},
   "outputs": [],
   "source": [
    "# Pre fault classical solution plot of w2\n",
    "\n",
    "\n",
    "# p4 = plot(sol1.t, y4, xlabel = \"t\", ylabel = \"w2\", legend = false)"
   ]
  },
  {
   "cell_type": "code",
   "execution_count": 14,
   "id": "3554033c",
   "metadata": {},
   "outputs": [],
   "source": [
    "# Pre fault classical solution plot of del3\n",
    "\n",
    "# p5 = plot(sol1.t, y5, xlabel = \"t\", ylabel = \"del3\", legend = false)"
   ]
  },
  {
   "cell_type": "code",
   "execution_count": 15,
   "id": "d3540926",
   "metadata": {},
   "outputs": [],
   "source": [
    "# Pre fault classical solution plot of w3\n",
    "\n",
    "# p6 = plot(sol1.t, y6, xlabel = \"t\", ylabel = \"w3\", legend = false)"
   ]
  },
  {
   "cell_type": "code",
   "execution_count": 16,
   "id": "6133daf8",
   "metadata": {},
   "outputs": [
    {
     "data": {
      "text/plain": [
       "9-element Vector{Float64}:\n",
       " 0.2804973072795233\n",
       " 1.0000046737616586\n",
       " 0.6010975528223498\n",
       " 0.999987822900838\n",
       " 0.4816056008516666\n",
       " 0.9999929868959316\n",
       " 0.674835588279386\n",
       " 1.659318141505159\n",
       " 0.8579411222206508"
      ]
     },
     "metadata": {},
     "output_type": "display_data"
    }
   ],
   "source": [
    "# Extracting end classical solution at 10s to feed as initial values for fault on calculation\n",
    "\n",
    "q=length(sol1.u)\n",
    "i2=sol1.u[q]"
   ]
  },
  {
   "cell_type": "code",
   "execution_count": 17,
   "id": "14ca816b",
   "metadata": {},
   "outputs": [
    {
     "data": {
      "text/plain": [
       "\u001b[38;2;86;182;194mODEProblem\u001b[0m with uType \u001b[38;2;86;182;194mVector{Float64}\u001b[0m and tType \u001b[38;2;86;182;194mFloat64\u001b[0m. In-place: \u001b[38;2;86;182;194mtrue\u001b[0m\n",
       "timespan: (10.0, 10.083)\n",
       "u0: 9-element Vector{Float64}:\n",
       " 0.2804973072795233\n",
       " 1.0000046737616586\n",
       " 0.6010975528223498\n",
       " 0.999987822900838\n",
       " 0.4816056008516666\n",
       " 0.9999929868959316\n",
       " 0.674835588279386\n",
       " 1.659318141505159\n",
       " 0.8579411222206508"
      ]
     },
     "metadata": {},
     "output_type": "display_data"
    }
   ],
   "source": [
    "# Fault on DAE formulation for 10-10.083 seconds using the initial values from the end solution at 10s from pre fault solution\n",
    "# P_e1,Pe_2 and P_e3 taken from the end solution at 10s from pre fault solution\n",
    "# New Y matrix taken from BWang's Paper for fault on condition\n",
    "\n",
    "u20=[i2[1], i2[2], i2[3], i2[4], i2[5], i2[6],   i2[7], i2[8], i2[9]] # del1, w1, del2, w2, del3, w3, P_e1, P_e2, P_e3\n",
    "tsp2=(10.0, 10.083)\n",
    "p20=(376.9911, 23.64, 6.4, 3.01,    23.64, 6.4, 3.01,    # Ws, H1, H2, H3,   D1, D2, D3\n",
    "    0.7164, 1.63, 0.85,   0.0608, 0.1198, 0.1813,       # P_m1, P_m2, P_m3,    X_d_p1, X_d_p2, X_d_p3\n",
    "    1.0566, 1.0502, 1.0170, 0, 0, 0,                    #e_q_p1, e_q_p2, e_q_p3,    R_a1, R_a2, R_a3\n",
    "    0.657, 3.816, 0, 0, 0.070, -0.631, -3.816, 0.657, 0, 0, 0.631, 0.070, # a11-a26 of Y\n",
    "    0, 0, 0, 5.486, 0, 0, 0, 0, -5.486, 0, 0, 0,                          # a31-a46 of Y\n",
    "    0.070, -0.631, 0, 0, 0.174, 2.796, 0.631, 0.070, 0, 0, -2.796, 0.174) # a51-a56 of Y\n",
    "\n",
    "prob2=ODEProblem(f, u20, tsp2, p20)"
   ]
  },
  {
   "cell_type": "code",
   "execution_count": 18,
   "id": "85bb0255",
   "metadata": {},
   "outputs": [],
   "source": [
    "# prob2=ODEProblem(f, [i2[1], i2[2], i2[3], i2[4], i2[5], i2[6],   i2[7], i2[8], i2[9]  ], (10.0, 10.083), (376.9911, 23.64, 6.4, 3.01,    23.64, 6.4, 3.01,    0.7164, 1.63, 0.85,     0.0608, 0.1198, 0.1813,    1.0566, 1.0502, 1.0170,     0, 0, 0,     0.657, 3.816, 0, 0, 0.070, -0.631,      -3.816, 0.657, 0, 0, 0.631, 0.070,      0, 0, 0, 5.486, 0, 0,      0, 0, -5.486, 0, 0, 0,       0.070, -0.631, 0, 0, 0.174, 2.796,       0.631, 0.070, 0, 0, -2.796, 0.174))"
   ]
  },
  {
   "cell_type": "code",
   "execution_count": 19,
   "id": "74bf5689",
   "metadata": {},
   "outputs": [],
   "source": [
    "# Fault on DAE classical solution of 6 variables (del1, w1, del2, w2, del3, w3)\n",
    "\n",
    "sol2 = solve(prob2, Rodas5(), reltol = 1e-4, abstol = 1e-4) ;"
   ]
  },
  {
   "cell_type": "code",
   "execution_count": 20,
   "id": "9461bd06",
   "metadata": {},
   "outputs": [],
   "source": [
    "# Extracting fault on classical solution for 6 variables plotting\n",
    "\n",
    "y7 = sol2[1, :];\n",
    "y8 = sol2[2, :];\n",
    "y9 = sol2[3, :];\n",
    "y10 = sol2[4, :];\n",
    "y11 = sol2[5, :];\n",
    "y12 = sol2[6, :];"
   ]
  },
  {
   "cell_type": "code",
   "execution_count": 21,
   "id": "0234137f",
   "metadata": {},
   "outputs": [],
   "source": [
    "# Fault on classical solution plot of del1\n",
    "\n",
    "# p7 = plot(sol2.t, y7, xlabel = \"t\", ylabel = \"del1\", legend = false)"
   ]
  },
  {
   "cell_type": "code",
   "execution_count": 22,
   "id": "bd1e9b8c",
   "metadata": {},
   "outputs": [],
   "source": [
    "# Fault on classical solution plot of w1\n",
    "\n",
    "#  p8 = plot(sol2.t, y8, xlabel = \"t\", ylabel = \"w1\", legend = false)"
   ]
  },
  {
   "cell_type": "code",
   "execution_count": 23,
   "id": "5e309d3e",
   "metadata": {},
   "outputs": [],
   "source": [
    "# Fault on classical solution plot of del2\n",
    "\n",
    "# p9 = plot(sol2.t, y9, xlabel = \"t\", ylabel = \"del2\", legend = false)"
   ]
  },
  {
   "cell_type": "code",
   "execution_count": 24,
   "id": "85995265",
   "metadata": {},
   "outputs": [],
   "source": [
    "# Fault on classical solution plot of w2\n",
    "\n",
    "# p10 = plot(sol2.t, y10, xlabel = \"t\", ylabel = \"w2\", legend = false)"
   ]
  },
  {
   "cell_type": "code",
   "execution_count": 25,
   "id": "31b0c391",
   "metadata": {},
   "outputs": [],
   "source": [
    "# Fault on classical solution plot of del3\n",
    "\n",
    "# p11 = plot(sol2.t, y11, xlabel = \"t\", ylabel = \"del3\", legend = false)"
   ]
  },
  {
   "cell_type": "code",
   "execution_count": 26,
   "id": "4483f9e9",
   "metadata": {},
   "outputs": [],
   "source": [
    "# Fault on classical solution plot of w3\n",
    "\n",
    "# p12 = plot(sol2.t, y12, xlabel = \"t\", ylabel = \"w3\", legend = false)"
   ]
  },
  {
   "cell_type": "code",
   "execution_count": 27,
   "id": "2d63c0e6",
   "metadata": {},
   "outputs": [
    {
     "data": {
      "text/plain": [
       "9-element Vector{Float64}:\n",
       "  0.2806648467545078\n",
       "  1.0000058375326975\n",
       "  0.620861102090323\n",
       "  1.0006755795168523\n",
       "  0.49340256896722073\n",
       "  1.000399966910345\n",
       "  0.6638398189150766\n",
       " -2.4612843441719844e-16\n",
       "  0.39665090574736156"
      ]
     },
     "metadata": {},
     "output_type": "display_data"
    }
   ],
   "source": [
    "# Extracting end classical solution at 10.083s to feed as initial values for post fault calculation\n",
    "\n",
    "q1=length(sol2.u)\n",
    "i3=sol2.u[q1]"
   ]
  },
  {
   "cell_type": "code",
   "execution_count": 28,
   "id": "68dc1b8c",
   "metadata": {},
   "outputs": [
    {
     "data": {
      "text/plain": [
       "\u001b[38;2;86;182;194mODEProblem\u001b[0m with uType \u001b[38;2;86;182;194mVector{Float64}\u001b[0m and tType \u001b[38;2;86;182;194mFloat64\u001b[0m. In-place: \u001b[38;2;86;182;194mtrue\u001b[0m\n",
       "timespan: (10.083, 20.0)\n",
       "u0: 9-element Vector{Float64}:\n",
       "  0.2806648467545078\n",
       "  1.0000058375326975\n",
       "  0.620861102090323\n",
       "  1.0006755795168523\n",
       "  0.49340256896722073\n",
       "  1.000399966910345\n",
       "  0.6638398189150766\n",
       " -2.4612843441719844e-16\n",
       "  0.39665090574736156"
      ]
     },
     "metadata": {},
     "output_type": "display_data"
    }
   ],
   "source": [
    "# post fault DAE formulation for 10.083-20 seconds using the initial values from the end solution at 10.086s from fault on solution\n",
    "# P_e1,Pe_2 and P_e3 taken from the end solution at 10.086s from fault on solution\n",
    "# New Y matrix taken from BWang's Paper for post fault condition\n",
    "\n",
    "\n",
    "u30=[i3[1], i3[2], i3[3], i3[4], i3[5], i3[6],   i3[7], i3[8], i3[9]] # del1, w1, del2, w2, del3, w3, P_e1, P_e2, P_e3\n",
    "tsp3=(10.083, 20.0)\n",
    "p30=(376.9911, 23.64, 6.4, 3.01,    23.64, 6.4, 3.01,    # Ws, H1, H2, H3,   D1, D2, D3\n",
    "    0.7164, 1.63, 0.85,   0.0608, 0.1198, 0.1813,       # P_m1, P_m2, P_m3,    X_d_p1, X_d_p2, X_d_p3\n",
    "    1.0566, 1.0502, 1.0170, 0, 0, 0,                    #e_q_p1, e_q_p2, e_q_p3,    R_a1, R_a2, R_a3\n",
    "    1.181, 2.229, 0.138, -0.726, 0.191, -1.079, -2.229, 1.181, 0.726, 0.138, 1.079, 0.191,   # a11-a26 of Y\n",
    "    0.138, -0.726, 0.389, 1.953, 0.199, -1.229, 0.726, 0.138, -1.953, 0.389, 1.229, 0.199,   # a31-a46 of Y\n",
    "    0.191, -1.079, 0.199, -1.299, 0.273, 2.342, 1.079, 0.191, 0.174, 0.199, -2.342, 0.273)   # a51-a56 of Y\n",
    "\n",
    "prob3=ODEProblem(f, u30, tsp3, p30)"
   ]
  },
  {
   "cell_type": "code",
   "execution_count": 29,
   "id": "d7f669b8",
   "metadata": {},
   "outputs": [],
   "source": [
    "# prob3=ODEProblem(f, [i3[1], i3[2], i3[3], i3[4], i3[5], i3[6],   i3[7], i3[8], i3[9]  ], (10.083, 20), (376.9911, 23.64, 6.4, 3.01,    23.64, 6.4, 3.01,    0.7164, 1.63, 0.85,     0.0608, 0.1198, 0.1813,    1.0566, 1.0502, 1.0170,     0, 0, 0,     1.181, 2.229, 0.138, -0.726, 0.191, -1.079,      -2.229, 1.181, 0.726, 0.138, 1.079, 0.191,      0.138, -0.726, 0.389, 1.953, 0.199, -1.229,       0.726, 0.138, -1.953, 0.389, 1.229, 0.199,       0.191, -1.079, 0.199, -1.299, 0.273, 2.342,       1.079, 0.191, 0.174, 0.199, -2.342, 0.273))\n"
   ]
  },
  {
   "cell_type": "code",
   "execution_count": 30,
   "id": "2120296a",
   "metadata": {},
   "outputs": [],
   "source": [
    "# Post fault DAE classical solution of 6 variables (del1, w1, del2, w2, del3, w3)\n",
    "\n",
    "sol3 = solve(prob3, Rodas5(), reltol = 1e-4, abstol = 1e-4) ;"
   ]
  },
  {
   "cell_type": "code",
   "execution_count": 31,
   "id": "c81a0cee",
   "metadata": {},
   "outputs": [],
   "source": [
    "# Extracting post fault solution for 6 variables plotting\n",
    "\n",
    "y13 = sol3[1, :];\n",
    "y14 = sol3[2, :];\n",
    "y15 = sol3[3, :];\n",
    "y16 = sol3[4, :];\n",
    "y17 = sol3[5, :];\n",
    "y18 = sol3[6, :];\n"
   ]
  },
  {
   "cell_type": "code",
   "execution_count": 32,
   "id": "389af655",
   "metadata": {},
   "outputs": [],
   "source": [
    "# post fault classical solution plot of del1\n",
    "\n",
    "# p13 = plot(sol3.t, y13, xlabel = \"t\", ylabel = \"del1\", legend = false)"
   ]
  },
  {
   "cell_type": "code",
   "execution_count": 33,
   "id": "3ea4f0f9",
   "metadata": {},
   "outputs": [],
   "source": [
    "# post fault classical solution plot of w1\n",
    "\n",
    "# p14 = plot(sol3.t, y14, xlabel = \"t\", ylabel = \"w1\", legend = false)"
   ]
  },
  {
   "cell_type": "code",
   "execution_count": 34,
   "id": "f13d880b",
   "metadata": {},
   "outputs": [],
   "source": [
    "# post fault classical solution plot of del2\n",
    "\n",
    "# p15 = plot(sol3.t, y15, xlabel = \"t\", ylabel = \"del2\", legend = false)"
   ]
  },
  {
   "cell_type": "code",
   "execution_count": 35,
   "id": "63736ac0",
   "metadata": {},
   "outputs": [],
   "source": [
    "# post fault classical solution plot of w2\n",
    "\n",
    "# p16 = plot(sol3.t, y16, xlabel = \"t\", ylabel = \"w2\", legend = false)"
   ]
  },
  {
   "cell_type": "code",
   "execution_count": 36,
   "id": "d68c6cac",
   "metadata": {},
   "outputs": [],
   "source": [
    "# post fault classical solution plot of del3\n",
    "\n",
    "# p17 = plot(sol3.t, y17, xlabel = \"t\", ylabel = \"del3\", legend = false)"
   ]
  },
  {
   "cell_type": "code",
   "execution_count": 37,
   "id": "ac86b332",
   "metadata": {},
   "outputs": [],
   "source": [
    "# post fault classical solution plot of w3\n",
    "\n",
    "# p18 =plot(sol3.t, y18, xlabel = \"t\", ylabel = \"w3\", legend = false)"
   ]
  },
  {
   "cell_type": "code",
   "execution_count": 38,
   "id": "e77c8dba",
   "metadata": {},
   "outputs": [],
   "source": [
    "# Combining pre fault, fault on and post fault classical solution to plot all three soultion together for 0-20 seconds\n",
    "\n",
    "combined_t = vcat(sol1.t, sol2.t, sol3.t )  \n",
    "combined_y1 = vcat(y1, y7, y13)\n",
    "combined_y2 = vcat(y2, y8, y14)\n",
    "combined_y3 = vcat(y3, y9, y15)\n",
    "combined_y4 = vcat(y4, y10, y16)\n",
    "combined_y5 = vcat(y5, y11, y17)\n",
    "combined_y6 = vcat(y6, y12, y18);"
   ]
  },
  {
   "cell_type": "code",
   "execution_count": 39,
   "id": "86dd8bfd",
   "metadata": {},
   "outputs": [],
   "source": [
    "# Final classical plot of del1 from 0 to 20 seconds under pre fault, fault on and post fault condition\n",
    "\n",
    "# fdel1=plot(combined_t, combined_y1, xlabel = \"t\", ylabel = \"del1\", legend = false, xlims = (0, 20))"
   ]
  },
  {
   "cell_type": "code",
   "execution_count": 40,
   "id": "8b143de3",
   "metadata": {},
   "outputs": [],
   "source": [
    "# Final classical plot of w1 from 0 to 15 seconds under pre fault, fault on and post fault condition\n",
    "\n",
    "# fw1=plot(combined_t, combined_y2, xlabel = \"t\", ylabel = \"w1\", legend = false, xlims = (0, 20))"
   ]
  },
  {
   "cell_type": "code",
   "execution_count": 41,
   "id": "07545a0b",
   "metadata": {},
   "outputs": [],
   "source": [
    "# Final classical plot of del2 from 0 to 15 seconds under pre fault, fault on and post fault condition\n",
    "\n",
    "# fdel2=plot(combined_t, combined_y3, xlabel = \"t\", ylabel = \"del2\", legend = false, xlims = (0, 20))"
   ]
  },
  {
   "cell_type": "code",
   "execution_count": 42,
   "id": "cded5d20",
   "metadata": {},
   "outputs": [],
   "source": [
    "# Final classical plot of w2 from 0 to 15 seconds under pre fault, fault on and post fault condition\n",
    "\n",
    "# fw2=plot(combined_t, combined_y4, xlabel = \"t\", ylabel = \"w2\", legend = false, xlims = (0, 20))"
   ]
  },
  {
   "cell_type": "code",
   "execution_count": 43,
   "id": "842378e2",
   "metadata": {},
   "outputs": [],
   "source": [
    "# Final classical plot of del3 from 0 to 15 seconds under pre fault, fault on and post fault condition\n",
    "\n",
    "# fdel3=plot(combined_t, combined_y5, xlabel = \"t\", ylabel = \"del3\", legend = false, xlims = (0, 20))"
   ]
  },
  {
   "cell_type": "code",
   "execution_count": 44,
   "id": "ecce4433",
   "metadata": {},
   "outputs": [],
   "source": [
    "# Final classical plot of w3 from 0 to 15 seconds under pre fault, fault on and post fault condition\n",
    "\n",
    "# fw3=plot(combined_t, combined_y6, xlabel = \"t\", ylabel = \"w3\", legend = false, xlims = (0, 20))"
   ]
  },
  {
   "cell_type": "code",
   "execution_count": 45,
   "id": "cd5ebc36",
   "metadata": {},
   "outputs": [],
   "source": [
    "# Machine 1 variables (del1, w1) classical plot\n",
    "\n",
    "# plot(combined_t, combined_y1, xlabel = \"t\", ylabel = \"Machine 1\", label=\"del1\", xlims=(0, 20), legend=true)\n",
    "# plot!(combined_t, combined_y2,  label=\"w1\", xlims=(0, 20), legend=true)\n",
    "\n"
   ]
  },
  {
   "cell_type": "code",
   "execution_count": 46,
   "id": "59455f15",
   "metadata": {
    "scrolled": false
   },
   "outputs": [],
   "source": [
    "# Machine 2 variables (del2, w2) classical plot\n",
    "\n",
    "# plot(combined_t, combined_y3, xlabel = \"t\", ylabel = \"Machine 2\", label=\"del2\", xlims=(0, 20), legend=true)\n",
    "# plot!(combined_t, combined_y4,  label=\"w2\", xlims=(0, 20), legend=true)"
   ]
  },
  {
   "cell_type": "code",
   "execution_count": 47,
   "id": "2d574eba",
   "metadata": {},
   "outputs": [],
   "source": [
    "# Machine 2 variables (del3, w3) classical plot\n",
    "\n",
    "# plot(combined_t, combined_y5, xlabel = \"t\", ylabel = \"Machine 3\", label=\"del3\", xlims=(0, 20), legend=true)\n",
    "# plot!(combined_t, combined_y6,  label=\"w3\", xlims=(0, 20), legend=true)"
   ]
  },
  {
   "cell_type": "code",
   "execution_count": 48,
   "id": "b13258ba",
   "metadata": {},
   "outputs": [],
   "source": [
    "# Pre fault DAE quantum solution of 6 variables (del1, w1, del2, w2, del3, w3)\n",
    "\n",
    "qsol1 = solve(prob1,QuNLDE(),dt = 0.1);"
   ]
  },
  {
   "cell_type": "code",
   "execution_count": 49,
   "id": "d30e3a24",
   "metadata": {},
   "outputs": [],
   "source": [
    "# Extracting pre fault quantum solution for 6 variables plotting\n",
    "\n",
    "qy1 = qsol1[1, :];\n",
    "qy2 = qsol1[2, :];\n",
    "qy3 = qsol1[3, :];\n",
    "qy4 = qsol1[4, :];\n",
    "qy5 = qsol1[5, :];\n",
    "qy6 = qsol1[6, :];"
   ]
  },
  {
   "cell_type": "code",
   "execution_count": 50,
   "id": "a9b25f42",
   "metadata": {},
   "outputs": [],
   "source": [
    "# Pre fault quantum solution plot of del1\n",
    "\n",
    "# qp1 = plot(qsol1.t, qy1, xlabel = \"t\", ylabel = \"del1\", legend = false)"
   ]
  },
  {
   "cell_type": "code",
   "execution_count": 51,
   "id": "f5492b29",
   "metadata": {},
   "outputs": [],
   "source": [
    "# Pre fault quantum solution plot of w1\n",
    "\n",
    "# qp2 = plot(qsol1.t, qy2, xlabel = \"t\", ylabel = \"w1\", legend = false)"
   ]
  },
  {
   "cell_type": "code",
   "execution_count": 52,
   "id": "11bf58d3",
   "metadata": {},
   "outputs": [],
   "source": [
    "# Pre fault quantum solution plot of del2\n",
    "\n",
    "# qp3 = plot(qsol1.t, qy3, xlabel = \"t\", ylabel = \"del2\", legend = false)"
   ]
  },
  {
   "cell_type": "code",
   "execution_count": 53,
   "id": "2a110abc",
   "metadata": {},
   "outputs": [],
   "source": [
    "# Pre fault quantum solution plot of w2\n",
    "\n",
    "# qp4 = plot(qsol1.t, qy4, xlabel = \"t\", ylabel = \"w2\", legend = false)"
   ]
  },
  {
   "cell_type": "code",
   "execution_count": 54,
   "id": "bb25ac9b",
   "metadata": {},
   "outputs": [],
   "source": [
    "# Pre fault quantum solution plot of del3\n",
    "\n",
    "# qp5 = plot(qsol1.t, qy5, xlabel = \"t\", ylabel = \"del3\", legend = false)"
   ]
  },
  {
   "cell_type": "code",
   "execution_count": 55,
   "id": "2ab8df25",
   "metadata": {},
   "outputs": [],
   "source": [
    "# Pre fault quantum solution plot of w3\n",
    "\n",
    "# qp6 = plot(qsol1.t, qy6, xlabel = \"t\", ylabel = \"w3\", legend = false)"
   ]
  },
  {
   "cell_type": "code",
   "execution_count": 56,
   "id": "b23c50a5",
   "metadata": {},
   "outputs": [],
   "source": [
    "# Comparison of pre fault classical and quantum solution for del1\n",
    "\n",
    "# plot(sol1.t, y1, xlabel = \"t\", ylabel = \"del1\", label=\"Classical\", legend = true)\n",
    "# plot!(qsol1.t, qy1, xlabel = \"t\", ylabel = \"del1\", label=\"Quantum\", legend =true)"
   ]
  },
  {
   "cell_type": "code",
   "execution_count": 57,
   "id": "1141f6ed",
   "metadata": {},
   "outputs": [],
   "source": [
    "# Comparison of pre fault classical and quantum solution for w1\n",
    "\n",
    "# plot(sol1.t, y2, xlabel = \"t\", ylabel = \"w1\", label=\"Classical\", legend = true)\n",
    "# plot!(qsol1.t, qy2, xlabel = \"t\", ylabel = \"w1\", label=\"Quantum\", legend =true)"
   ]
  },
  {
   "cell_type": "code",
   "execution_count": 58,
   "id": "b2313b6c",
   "metadata": {},
   "outputs": [],
   "source": [
    "# Comparison of pre fault classical and quantum solution for del2\n",
    "\n",
    "# plot(sol1.t, y3, xlabel = \"t\", ylabel = \"del2\", label=\"Classical\", legend = true)\n",
    "# plot!(qsol1.t, qy3, xlabel = \"t\", ylabel = \"del2\", label=\"Quantum\", legend =true)"
   ]
  },
  {
   "cell_type": "code",
   "execution_count": 59,
   "id": "2cf2335c",
   "metadata": {},
   "outputs": [],
   "source": [
    "# Comparison of pre fault classical and quantum solution for w2\n",
    "\n",
    "# plot(sol1.t, y4, xlabel = \"t\", ylabel = \"w2\", label=\"Classical\", legend = true)\n",
    "# plot!(qsol1.t, qy4, xlabel = \"t\", ylabel = \"w2\", label=\"Quantum\", legend =true)"
   ]
  },
  {
   "cell_type": "code",
   "execution_count": 60,
   "id": "5f5eee8b",
   "metadata": {},
   "outputs": [],
   "source": [
    "# Comparison of pre fault classical and quantum solution for del3\n",
    "\n",
    "# plot(sol1.t, y5, xlabel = \"t\", ylabel = \"del3\", label=\"Classical\", legend = true)\n",
    "# plot!(qsol1.t, qy5, xlabel = \"t\", ylabel = \"del3\", label=\"Quantum\", legend =true)"
   ]
  },
  {
   "cell_type": "code",
   "execution_count": 61,
   "id": "c43bcac9",
   "metadata": {},
   "outputs": [],
   "source": [
    "# Comparison of pre fault classical and quantum solution for w3\n",
    "\n",
    "# plot(sol1.t, y6, xlabel = \"t\", ylabel = \"w3\", label=\"Classical\", legend = true)\n",
    "# plot!(qsol1.t, qy6, xlabel = \"t\", ylabel = \"w3\", label=\"Quantum\", legend =true)"
   ]
  },
  {
   "cell_type": "code",
   "execution_count": 62,
   "id": "a1e4b002",
   "metadata": {},
   "outputs": [
    {
     "data": {
      "text/plain": [
       "9-element Vector{Float64}:\n",
       " 0.280496794502642\n",
       " 1.0000046743990056\n",
       " 0.6010991141636028\n",
       " 0.9999878214949466\n",
       " 0.48160674457062197\n",
       " 0.9999929855543598\n",
       " 0.6748298924131053\n",
       " 1.6593216115734373\n",
       " 0.857942663972236"
      ]
     },
     "metadata": {},
     "output_type": "display_data"
    }
   ],
   "source": [
    "# Extracting end quantum solution at 10s to feed as initial values for fault on calculation\n",
    "\n",
    "qq=length(qsol1.u)\n",
    "qi2=qsol1.u[qq]"
   ]
  },
  {
   "cell_type": "code",
   "execution_count": 63,
   "id": "355a9e7a",
   "metadata": {},
   "outputs": [
    {
     "data": {
      "text/plain": [
       "\u001b[38;2;86;182;194mODEProblem\u001b[0m with uType \u001b[38;2;86;182;194mVector{Float64}\u001b[0m and tType \u001b[38;2;86;182;194mFloat64\u001b[0m. In-place: \u001b[38;2;86;182;194mtrue\u001b[0m\n",
       "timespan: (10.0, 10.083)\n",
       "u0: 9-element Vector{Float64}:\n",
       " 0.280496794502642\n",
       " 1.0000046743990056\n",
       " 0.6010991141636028\n",
       " 0.9999878214949466\n",
       " 0.48160674457062197\n",
       " 0.9999929855543598\n",
       " 0.6748298924131053\n",
       " 1.6593216115734373\n",
       " 0.857942663972236"
      ]
     },
     "metadata": {},
     "output_type": "display_data"
    }
   ],
   "source": [
    "# Fault on DAE formulation for 10-10.083 seconds using the initial values from the end solution at 10s from pre fault solution\n",
    "# P_e1,Pe_2 and P_e3 taken from the end solution at 10s from pre fault solution\n",
    "# New Y matrix taken from BWang's Paper for fault on condition\n",
    "\n",
    "qu20=[qi2[1], qi2[2], qi2[3], qi2[4], qi2[5], qi2[6],   qi2[7], qi2[8], qi2[9]] # del1, w1, del2, w2, del3, w3, P_e1, P_e2, P_e3\n",
    "tsp2=(10.0, 10.083)\n",
    "qp20=(376.9911, 23.64, 6.4, 3.01,    23.64, 6.4, 3.01,    # Ws, H1, H2, H3,   D1, D2, D3\n",
    "    0.7164, 1.63, 0.85,   0.0608, 0.1198, 0.1813,       # P_m1, P_m2, P_m3,    X_d_p1, X_d_p2, X_d_p3\n",
    "    1.0566, 1.0502, 1.0170, 0, 0, 0,                    #e_q_p1, e_q_p2, e_q_p3,    R_a1, R_a2, R_a3\n",
    "    0.657, 3.816, 0, 0, 0.070, -0.631, -3.816, 0.657, 0, 0, 0.631, 0.070, # a11-a26 of Y\n",
    "    0, 0, 0, 5.486, 0, 0, 0, 0, -5.486, 0, 0, 0,                          # a31-a46 of Y\n",
    "    0.070, -0.631, 0, 0, 0.174, 2.796, 0.631, 0.070, 0, 0, -2.796, 0.174) # a51-a56 of Y\n",
    "\n",
    "qprob2=ODEProblem(f, qu20, tsp2, qp20)"
   ]
  },
  {
   "cell_type": "code",
   "execution_count": 64,
   "id": "c44c4b4e",
   "metadata": {},
   "outputs": [],
   "source": [
    "# Fault on DAE quantum solution of 6 variables (del1, w1, del2, w2, del3, w3)\n",
    "\n",
    "qsol2 = solve(qprob2,QuNLDE(),dt = 0.1);"
   ]
  },
  {
   "cell_type": "code",
   "execution_count": 65,
   "id": "e7d51934",
   "metadata": {},
   "outputs": [],
   "source": [
    "# Extracting fault on quantum solution for 6 variables plotting\n",
    "\n",
    "qy7 = qsol2[1, :];\n",
    "qy8 = qsol2[2, :];\n",
    "qy9 = qsol2[3, :];\n",
    "qy10 = qsol2[4, :];\n",
    "qy11 = qsol2[5, :];\n",
    "qy12 = qsol2[6, :];"
   ]
  },
  {
   "cell_type": "code",
   "execution_count": 66,
   "id": "ae656cd9",
   "metadata": {},
   "outputs": [],
   "source": [
    "# Fault on quantum solution plot of del1\n",
    "\n",
    "# qp7 = plot(qsol2.t, qy7, xlabel = \"t\", ylabel = \"del1\", legend = false)"
   ]
  },
  {
   "cell_type": "code",
   "execution_count": 67,
   "id": "ae745dbb",
   "metadata": {},
   "outputs": [],
   "source": [
    "# Fault on quantum solution plot of w1\n",
    "\n",
    "# qp8 = plot(qsol2.t, qy8, xlabel = \"t\", ylabel = \"w1\", legend = false)"
   ]
  },
  {
   "cell_type": "code",
   "execution_count": 68,
   "id": "c868e640",
   "metadata": {},
   "outputs": [],
   "source": [
    "# Fault on quantum solution plot of del2\n",
    "\n",
    "# qp9 = plot(qsol2.t, qy9, xlabel = \"t\", ylabel = \"del2\", legend = false)"
   ]
  },
  {
   "cell_type": "code",
   "execution_count": 69,
   "id": "96b20dd8",
   "metadata": {},
   "outputs": [],
   "source": [
    "# Fault on quantum solution plot of w2\n",
    "\n",
    "# qp10 = plot(qsol2.t, qy10, xlabel = \"t\", ylabel = \"w2\", legend = false)"
   ]
  },
  {
   "cell_type": "code",
   "execution_count": 70,
   "id": "b036f8c7",
   "metadata": {},
   "outputs": [],
   "source": [
    "# Fault on quantum solution plot of del3\n",
    "\n",
    "# qp11 = plot(qsol2.t, qy11, xlabel = \"t\", ylabel = \"del3\", legend = false)"
   ]
  },
  {
   "cell_type": "code",
   "execution_count": 71,
   "id": "79c89345",
   "metadata": {},
   "outputs": [],
   "source": [
    "# Fault on quantum solution plot of w3\n",
    "\n",
    "# qp12 = plot(qsol2.t, qy12, xlabel = \"t\", ylabel = \"w3\", legend = false)"
   ]
  },
  {
   "cell_type": "code",
   "execution_count": 72,
   "id": "e893fb14",
   "metadata": {},
   "outputs": [],
   "source": [
    "# Comparison of fault on classical and quantum solution for del1\n",
    "\n",
    "# plot(sol2.t, y7, xlabel = \"t\", ylabel = \"del1\", label=\"Classical\", legend = true)\n",
    "# plot!(qsol2.t, qy7, xlabel = \"t\", ylabel = \"del1\", label=\"Quantum\", legend =true)"
   ]
  },
  {
   "cell_type": "code",
   "execution_count": 73,
   "id": "e2156e2e",
   "metadata": {},
   "outputs": [],
   "source": [
    "# Comparison of fault on classical and quantum solution for w1\n",
    "\n",
    "# plot(sol2.t, y8, xlabel = \"t\", ylabel = \"w1\", label=\"Classical\", legend = true)\n",
    "# plot!(qsol2.t, qy8, xlabel = \"t\", ylabel = \"w1\", label=\"Quantum\", legend =true)"
   ]
  },
  {
   "cell_type": "code",
   "execution_count": 74,
   "id": "9cfcf4f0",
   "metadata": {},
   "outputs": [],
   "source": [
    "# Comparison of fault on classical and quantum solution for del2\n",
    "\n",
    "# plot(sol2.t, y9, xlabel = \"t\", ylabel = \"del2\", label=\"Classical\", legend = true)\n",
    "# plot!(qsol2.t, qy9, xlabel = \"t\", ylabel = \"del2\", label=\"Quantum\", legend =true)"
   ]
  },
  {
   "cell_type": "code",
   "execution_count": 75,
   "id": "abe28265",
   "metadata": {},
   "outputs": [],
   "source": [
    "# Comparison of fault on classical and quantum solution for w2\n",
    "\n",
    "# plot(sol2.t, y10, xlabel = \"t\", ylabel = \"w2\", label=\"Classical\", legend = true)\n",
    "# plot!(qsol2.t, qy10, xlabel = \"t\", ylabel = \"w2\", label=\"Quantum\", legend =true)"
   ]
  },
  {
   "cell_type": "code",
   "execution_count": 76,
   "id": "633e0cc3",
   "metadata": {},
   "outputs": [],
   "source": [
    "# Comparison of fault on classical and quantum solution for del3\n",
    "\n",
    "# plot(sol2.t, y11, xlabel = \"t\", ylabel = \"del3\", label=\"Classical\", legend = true)\n",
    "# plot!(qsol2.t, qy11, xlabel = \"t\", ylabel = \"del3\", label=\"Quantum\", legend =true)"
   ]
  },
  {
   "cell_type": "code",
   "execution_count": 77,
   "id": "92eb7d81",
   "metadata": {},
   "outputs": [],
   "source": [
    "# Comparison of fault on classical and quantum solution for w3\n",
    "\n",
    "# plot(sol2.t, y12, xlabel = \"t\", ylabel = \"w3\", label=\"Classical\", legend = true)\n",
    "# plot!(qsol2.t, qy12, xlabel = \"t\", ylabel = \"w3\", label=\"Quantum\", legend =true)"
   ]
  },
  {
   "cell_type": "code",
   "execution_count": 78,
   "id": "285e0a14",
   "metadata": {},
   "outputs": [
    {
     "data": {
      "text/plain": [
       "9-element Vector{Float64}:\n",
       " 0.280664391006962\n",
       " 1.0000058016270679\n",
       " 0.6210829417893502\n",
       " 1.000565438932639\n",
       " 0.49353643173231554\n",
       " 1.0003336635269933\n",
       " 0.6637486053228362\n",
       " 9.573976548904028e-13\n",
       " 0.3967379852910365"
      ]
     },
     "metadata": {},
     "output_type": "display_data"
    }
   ],
   "source": [
    "# Extracting end quantum solution at 10.083s to feed as initial values for post fault calculation\n",
    "\n",
    "qq1=length(qsol2.u)\n",
    "qi3=qsol2.u[qq1]"
   ]
  },
  {
   "cell_type": "code",
   "execution_count": 79,
   "id": "004b1311",
   "metadata": {},
   "outputs": [
    {
     "data": {
      "text/plain": [
       "\u001b[38;2;86;182;194mODEProblem\u001b[0m with uType \u001b[38;2;86;182;194mVector{Float64}\u001b[0m and tType \u001b[38;2;86;182;194mFloat64\u001b[0m. In-place: \u001b[38;2;86;182;194mtrue\u001b[0m\n",
       "timespan: (10.083, 30.0)\n",
       "u0: 9-element Vector{Float64}:\n",
       " 0.280664391006962\n",
       " 1.0000058016270679\n",
       " 0.6210829417893502\n",
       " 1.000565438932639\n",
       " 0.49353643173231554\n",
       " 1.0003336635269933\n",
       " 0.6637486053228362\n",
       " 9.573976548904028e-13\n",
       " 0.3967379852910365"
      ]
     },
     "metadata": {},
     "output_type": "display_data"
    }
   ],
   "source": [
    "# post fault DAE formulation for 10.083-20 seconds using the initial values from the end solution at 10.086s from fault on solution\n",
    "# P_e1,Pe_2 and P_e3 taken from the end solution at 10.086s from fault on solution\n",
    "# New Y matrix taken from BWang's Paper for post fault condition\n",
    "\n",
    "\n",
    "qu30=[qi3[1], qi3[2], qi3[3], qi3[4], qi3[5], qi3[6], qi3[7], qi3[8], qi3[9]] # del1, w1, del2, w2, del3, w3, P_e1, P_e2, P_e3\n",
    "tsp3=(10.083, 30.0)\n",
    "qp30=(376.9911, 23.64, 6.4, 3.01,    23.64, 6.4, 3.01,    # Ws, H1, H2, H3,   D1, D2, D3\n",
    "    0.7164, 1.63, 0.85,   0.0608, 0.1198, 0.1813,       # P_m1, P_m2, P_m3,    X_d_p1, X_d_p2, X_d_p3\n",
    "    1.0566, 1.0502, 1.0170, 0, 0, 0,                    #e_q_p1, e_q_p2, e_q_p3,    R_a1, R_a2, R_a3\n",
    "    1.181, 2.229, 0.138, -0.726, 0.191, -1.079, -2.229, 1.181, 0.726, 0.138, 1.079, 0.191,   # a11-a26 of Y\n",
    "    0.138, -0.726, 0.389, 1.953, 0.199, -1.229, 0.726, 0.138, -1.953, 0.389, 1.229, 0.199,   # a31-a46 of Y\n",
    "    0.191, -1.079, 0.199, -1.299, 0.273, 2.342, 1.079, 0.191, 0.174, 0.199, -2.342, 0.273)   # a51-a56 of Y\n",
    "\n",
    "qprob3=ODEProblem(f, qu30, tsp3, qp30)"
   ]
  },
  {
   "cell_type": "code",
   "execution_count": 80,
   "id": "e6208516",
   "metadata": {},
   "outputs": [
    {
     "ename": "ErrorException",
     "evalue": "syntax: extra token \"0.3969225052691867\" after end of expression",
     "output_type": "error",
     "traceback": [
      "syntax: extra token \"0.3969225052691867\" after end of expression\n",
      "\n",
      "Stacktrace:\n",
      " [1] top-level scope\n",
      "   @ c:\\Git repo\\QML_PowerSystem\\QML_PowerSystem\\3-machine\\Julia\\WSCC 2nd order-quantum.ipynb:2"
     ]
    }
   ],
   "source": [
    "# Post fault DAE quantum solution of 6 variables (del1, w1, del2, w2, del3, w3)\n",
    "0.6635548694339249 -1.1102230246251565e-16 0.3969225052691867\n",
    "qsol3 = solve(qprob3,QuNLDE(),dt = 0.1);"
   ]
  },
  {
   "cell_type": "code",
   "execution_count": 81,
   "id": "38b82fa6",
   "metadata": {},
   "outputs": [
    {
     "ename": "UndefVarError",
     "evalue": "UndefVarError: `qsol3` not defined",
     "output_type": "error",
     "traceback": [
      "UndefVarError: `qsol3` not defined\n",
      "\n",
      "Stacktrace:\n",
      " [1] top-level scope\n",
      "   @ c:\\Git repo\\QML_PowerSystem\\QML_PowerSystem\\3-machine\\Julia\\WSCC 2nd order-quantum.ipynb:3"
     ]
    }
   ],
   "source": [
    "# Extracting post fault quantum solution for 6 variables plotting\n",
    "\n",
    "qy13 = qsol3[1, :];\n",
    "qy14 = qsol3[2, :];\n",
    "qy15 = qsol3[3, :];\n",
    "qy16 = qsol3[4, :];\n",
    "qy17 = qsol3[5, :];\n",
    "qy18 = qsol3[6, :];"
   ]
  },
  {
   "cell_type": "code",
   "execution_count": 82,
   "id": "430f8124",
   "metadata": {},
   "outputs": [],
   "source": [
    "# post fault quantum solution plot of del1\n",
    "\n",
    "# qp13 = plot(qsol3.t, qy13, xlabel = \"t\", ylabel = \"del1\", legend = false)"
   ]
  },
  {
   "cell_type": "code",
   "execution_count": 83,
   "id": "20f9dfe2",
   "metadata": {},
   "outputs": [],
   "source": [
    "# post fault quantum solution plot of w1\n",
    "\n",
    "# p14 = plot(qsol3.t, qy14, xlabel = \"t\", ylabel = \"w1\", legend = false)"
   ]
  },
  {
   "cell_type": "code",
   "execution_count": 84,
   "id": "cc28c533",
   "metadata": {},
   "outputs": [],
   "source": [
    "# post fault quantum solution plot of del2\n",
    "\n",
    "# qp15 = plot(qsol3.t, qy15, xlabel = \"t\", ylabel = \"del2\", legend = false)"
   ]
  },
  {
   "cell_type": "code",
   "execution_count": 85,
   "id": "c72e74be",
   "metadata": {},
   "outputs": [],
   "source": [
    "# post fault quantum solution plot of w2\n",
    "\n",
    "# qp16 = plot(qsol3.t, qy16, xlabel = \"t\", ylabel = \"w2\", legend = false)"
   ]
  },
  {
   "cell_type": "code",
   "execution_count": 86,
   "id": "dd2504a7",
   "metadata": {},
   "outputs": [],
   "source": [
    "# post fault quantum solution plot of del3\n",
    "\n",
    "# qp17 = plot(qsol3.t, qy17, xlabel = \"t\", ylabel = \"del3\", legend = false)"
   ]
  },
  {
   "cell_type": "code",
   "execution_count": 87,
   "id": "812d2261",
   "metadata": {},
   "outputs": [],
   "source": [
    "# post fault quantum solution plot of w3\n",
    "\n",
    "# qp18 =plot(qsol3.t, qy18, xlabel = \"t\", ylabel = \"w3\", legend = false)"
   ]
  },
  {
   "cell_type": "code",
   "execution_count": 88,
   "id": "d824558d",
   "metadata": {},
   "outputs": [],
   "source": [
    "# Comparison of post fault classical and quantum solution for del1\n",
    "\n",
    "# plot(sol3.t, y13, xlabel = \"t\", ylabel = \"del1\", label=\"Classical\", legend = true)\n",
    "# plot!(qsol3.t, qy13, xlabel = \"t\", ylabel = \"del1\", label=\"Quantum\", legend =true)"
   ]
  },
  {
   "cell_type": "code",
   "execution_count": 89,
   "id": "5858d2c9",
   "metadata": {},
   "outputs": [],
   "source": [
    "# Comparison of post fault classical and quantum solution for w1\n",
    "\n",
    "# plot(sol3.t, y14, xlabel = \"t\", ylabel = \"w1\", label=\"Classical\", legend = true)\n",
    "# plot!(qsol3.t, qy14, xlabel = \"t\", ylabel = \"w1\", label=\"Quantum\", legend =true)"
   ]
  },
  {
   "cell_type": "code",
   "execution_count": 90,
   "id": "24184991",
   "metadata": {},
   "outputs": [],
   "source": [
    "# Comparison of post fault classical and quantum solution for del2\n",
    "\n",
    "# plot(sol3.t, y15, xlabel = \"t\", ylabel = \"del2\", label=\"Classical\", legend = true)\n",
    "# plot!(qsol3.t, qy15, xlabel = \"t\", ylabel = \"del2\", label=\"Quantum\", legend =true)"
   ]
  },
  {
   "cell_type": "code",
   "execution_count": 91,
   "id": "be1e6b41",
   "metadata": {},
   "outputs": [],
   "source": [
    "# Comparison of post fault classical and quantum solution for w2\n",
    "\n",
    "# plot(sol3.t, y16, xlabel = \"t\", ylabel = \"w2\", label=\"Classical\", legend = true)\n",
    "# plot!(qsol3.t, qy16, xlabel = \"t\", ylabel = \"w2\", label=\"Quantum\", legend =true)"
   ]
  },
  {
   "cell_type": "code",
   "execution_count": 92,
   "id": "7c7fc3de",
   "metadata": {},
   "outputs": [],
   "source": [
    "# Comparison of post fault classical and quantum solution for del3\n",
    "\n",
    "# plot(sol3.t, y17, xlabel = \"t\", ylabel = \"del3\", label=\"Classical\", legend = true)\n",
    "# plot!(qsol3.t, qy17, xlabel = \"t\", ylabel = \"del3\", label=\"Quantum\", legend =true)"
   ]
  },
  {
   "cell_type": "code",
   "execution_count": 93,
   "id": "6eebc54b",
   "metadata": {},
   "outputs": [],
   "source": [
    "# Comparison of post fault classical and quantum solution for w3\n",
    "\n",
    "# plot(sol3.t, y18, xlabel = \"t\", ylabel = \"w3\", label=\"Classical\", legend = true)\n",
    "# plot!(qsol3.t, qy18, xlabel = \"t\", ylabel = \"w3\", label=\"Quantum\", legend =true)"
   ]
  },
  {
   "cell_type": "code",
   "execution_count": 94,
   "id": "29b61ce4",
   "metadata": {},
   "outputs": [
    {
     "ename": "UndefVarError",
     "evalue": "UndefVarError: `qsol3` not defined",
     "output_type": "error",
     "traceback": [
      "UndefVarError: `qsol3` not defined\n",
      "\n",
      "Stacktrace:\n",
      " [1] top-level scope\n",
      "   @ c:\\Git repo\\QML_PowerSystem\\QML_PowerSystem\\3-machine\\Julia\\WSCC 2nd order-quantum.ipynb:3"
     ]
    }
   ],
   "source": [
    "# Combining pre fault, fault on and post fault quantum solution to plot all three soultion together for 0-20 seconds\n",
    "\n",
    "combined_qt = vcat(qsol1.t, qsol2.t, qsol3.t )  \n",
    "combined_qy1 = vcat(qy1, qy7, qy13)\n",
    "combined_qy2 = vcat(qy2, qy8, qy14)\n",
    "combined_qy3 = vcat(qy3, qy9, qy15)\n",
    "combined_qy4 = vcat(qy4, qy10, qy16)\n",
    "combined_qy5 = vcat(qy5, qy11, qy17)\n",
    "combined_qy6 = vcat(qy6, qy12, qy18);"
   ]
  },
  {
   "cell_type": "code",
   "execution_count": 95,
   "id": "a4d5892c",
   "metadata": {},
   "outputs": [],
   "source": [
    "# Final quantum plot of del1 from 0 to 20 seconds under pre fault, fault on and post fault condition\n",
    "\n",
    "# fqdel1=plot(combined_qt, combined_qy1, xlabel = \"t\", ylabel = \"del1\", legend = false, xlims = (0, 20))"
   ]
  },
  {
   "cell_type": "code",
   "execution_count": 96,
   "id": "0607c022",
   "metadata": {},
   "outputs": [],
   "source": [
    "# Final quantum plot of w1 from 0 to 20 seconds under pre fault, fault on and post fault condition\n",
    "\n",
    "# fqw1=plot(combined_qt, combined_qy2, xlabel = \"t\", ylabel = \"w1\", legend = false, xlims = (0, 20))"
   ]
  },
  {
   "cell_type": "code",
   "execution_count": 97,
   "id": "c0cd7ae1",
   "metadata": {},
   "outputs": [],
   "source": [
    "# Final quantum plot of del2 from 0 to 20 seconds under pre fault, fault on and post fault condition\n",
    "\n",
    "# fqdel2=plot(combined_qt, combined_qy3, xlabel = \"t\", ylabel = \"del2\", legend = false, xlims = (0, 20))"
   ]
  },
  {
   "cell_type": "code",
   "execution_count": 98,
   "id": "ba64deae",
   "metadata": {},
   "outputs": [],
   "source": [
    "# Final quantum plot of w2 from 0 to 20 seconds under pre fault, fault on and post fault condition\n",
    "\n",
    "# fqw2=plot(combined_qt, combined_qy4, xlabel = \"t\", ylabel = \"w2\", legend = false, xlims = (0, 20))"
   ]
  },
  {
   "cell_type": "code",
   "execution_count": 99,
   "id": "994e8c27",
   "metadata": {},
   "outputs": [],
   "source": [
    "# Final quantum plot of del3 from 0 to 20 seconds under pre fault, fault on and post fault condition\n",
    "\n",
    "# fqdel3=plot(combined_qt, combined_qy5, xlabel = \"t\", ylabel = \"del3\", legend = false, xlims = (0, 20))"
   ]
  },
  {
   "cell_type": "code",
   "execution_count": 100,
   "id": "10685e39",
   "metadata": {},
   "outputs": [],
   "source": [
    "# Final quantum plot of w3 from 0 to 20 seconds under pre fault, fault on and post fault condition\n",
    "\n",
    "# fqw3=plot(combined_qt, combined_qy6, xlabel = \"t\", ylabel = \"w3\", legend = false, xlims = (0, 20))"
   ]
  },
  {
   "cell_type": "code",
   "execution_count": 101,
   "id": "408185e5",
   "metadata": {},
   "outputs": [
    {
     "ename": "UndefVarError",
     "evalue": "UndefVarError: `combined_qt` not defined",
     "output_type": "error",
     "traceback": [
      "UndefVarError: `combined_qt` not defined\n",
      "\n",
      "Stacktrace:\n",
      " [1] top-level scope\n",
      "   @ c:\\Git repo\\QML_PowerSystem\\QML_PowerSystem\\3-machine\\Julia\\WSCC 2nd order-quantum.ipynb:4"
     ]
    }
   ],
   "source": [
    "# Comparison of quantum classical plot of del1 from 0 to 20 seconds under pre fault, fault on and post fault condition\n",
    "\n",
    "plot(combined_t, combined_y1, xlabel = \"t\", ylabel = \"del1\", label=\"Classical\", legend = true, xlims = (0, 20))\n",
    "plot!(combined_qt, combined_qy1, xlabel = \"t\", ylabel = \"del1\", label=\"Quantum\", legend = true, xlims = (0, 20))"
   ]
  },
  {
   "cell_type": "code",
   "execution_count": 102,
   "id": "78b1fbbd",
   "metadata": {},
   "outputs": [
    {
     "ename": "UndefVarError",
     "evalue": "UndefVarError: `combined_qt` not defined",
     "output_type": "error",
     "traceback": [
      "UndefVarError: `combined_qt` not defined\n",
      "\n",
      "Stacktrace:\n",
      " [1] top-level scope\n",
      "   @ c:\\Git repo\\QML_PowerSystem\\QML_PowerSystem\\3-machine\\Julia\\WSCC 2nd order-quantum.ipynb:4"
     ]
    }
   ],
   "source": [
    "# Comparison of quantum classical plot of w1 from 0 to 20 seconds under pre fault, fault on and post fault condition\n",
    "\n",
    "plot(combined_t, combined_y2, xlabel = \"t\", ylabel = \"w1\", label=\"Classical\", legend = true, xlims = (0, 20))\n",
    "plot!(combined_qt, combined_qy2, xlabel = \"t\", ylabel = \"w1\", label=\"Quantum\", legend = true, xlims = (0, 20))"
   ]
  },
  {
   "cell_type": "code",
   "execution_count": 103,
   "id": "b05f811f",
   "metadata": {},
   "outputs": [
    {
     "ename": "UndefVarError",
     "evalue": "UndefVarError: `combined_qt` not defined",
     "output_type": "error",
     "traceback": [
      "UndefVarError: `combined_qt` not defined\n",
      "\n",
      "Stacktrace:\n",
      " [1] top-level scope\n",
      "   @ c:\\Git repo\\QML_PowerSystem\\QML_PowerSystem\\3-machine\\Julia\\WSCC 2nd order-quantum.ipynb:4"
     ]
    }
   ],
   "source": [
    "# Comparison of quantum classical plot of del2 from 0 to 20 seconds under pre fault, fault on and post fault condition\n",
    "\n",
    "plot(combined_t, combined_y3, xlabel = \"t\", ylabel = \"del2\", label=\"Classical\", legend = true, xlims = (0, 20))\n",
    "plot!(combined_qt, combined_qy3, xlabel = \"t\", ylabel = \"del2\", label=\"Quantum\", legend = true, xlims = (0, 20))"
   ]
  },
  {
   "cell_type": "code",
   "execution_count": 104,
   "id": "1bed7d41",
   "metadata": {},
   "outputs": [
    {
     "ename": "UndefVarError",
     "evalue": "UndefVarError: `combined_qt` not defined",
     "output_type": "error",
     "traceback": [
      "UndefVarError: `combined_qt` not defined\n",
      "\n",
      "Stacktrace:\n",
      " [1] top-level scope\n",
      "   @ c:\\Git repo\\QML_PowerSystem\\QML_PowerSystem\\3-machine\\Julia\\WSCC 2nd order-quantum.ipynb:4"
     ]
    }
   ],
   "source": [
    "# Comparison of quantum classical plot of w2 from 0 to 20 seconds under pre fault, fault on and post fault condition\n",
    "\n",
    "plot(combined_t, combined_y4, xlabel = \"t\", ylabel = \"w2\", label=\"Classical\", legend = true, xlims = (0, 20))\n",
    "plot!(combined_qt, combined_qy4, xlabel = \"t\", ylabel = \"w2\", label=\"Quantum\", legend = true, xlims = (0, 20))"
   ]
  },
  {
   "cell_type": "code",
   "execution_count": 105,
   "id": "aac5ef49",
   "metadata": {},
   "outputs": [
    {
     "ename": "UndefVarError",
     "evalue": "UndefVarError: `combined_qt` not defined",
     "output_type": "error",
     "traceback": [
      "UndefVarError: `combined_qt` not defined\n",
      "\n",
      "Stacktrace:\n",
      " [1] top-level scope\n",
      "   @ c:\\Git repo\\QML_PowerSystem\\QML_PowerSystem\\3-machine\\Julia\\WSCC 2nd order-quantum.ipynb:4"
     ]
    }
   ],
   "source": [
    "# Comparison of quantum classical plot of del3 from 0 to 20 seconds under pre fault, fault on and post fault condition\n",
    "\n",
    "plot(combined_t, combined_y5, xlabel = \"t\", ylabel = \"del3\", label=\"Classical\", legend = true, xlims = (0, 20))\n",
    "plot!(combined_qt, combined_qy5, xlabel = \"t\", ylabel = \"del3\", label=\"Quantum\", legend = true, xlims = (0, 20))"
   ]
  },
  {
   "cell_type": "code",
   "execution_count": 106,
   "id": "c26072b7",
   "metadata": {},
   "outputs": [
    {
     "ename": "UndefVarError",
     "evalue": "UndefVarError: `combined_qt` not defined",
     "output_type": "error",
     "traceback": [
      "UndefVarError: `combined_qt` not defined\n",
      "\n",
      "Stacktrace:\n",
      " [1] top-level scope\n",
      "   @ c:\\Git repo\\QML_PowerSystem\\QML_PowerSystem\\3-machine\\Julia\\WSCC 2nd order-quantum.ipynb:4"
     ]
    }
   ],
   "source": [
    "# Comparison of quantum classical plot of w3 from 0 to 20 seconds under pre fault, fault on and post fault condition\n",
    "\n",
    "plot(combined_t, combined_y6, xlabel = \"t\", ylabel = \"w3\", label=\"Classical\", legend = true, xlims = (0, 20))\n",
    "plot!(combined_qt, combined_qy6, xlabel = \"t\", ylabel = \"w3\", label=\"Quantum\", legend = true, xlims = (0, 20))"
   ]
  },
  {
   "cell_type": "code",
   "execution_count": 107,
   "id": "62ed432d",
   "metadata": {},
   "outputs": [],
   "source": [
    "# Machine 1 variables (del1, w1) quantum plot\n",
    "\n",
    "# plot(combined_qt, combined_qy1, xlabel = \"t\", ylabel = \"Machine 1\", label=\"del1\", xlims=(0, 20), legend=true)\n",
    "# plot!(combined_qt, combined_qy2,  label=\"w1\", xlims=(0, 20), legend=true)\n",
    "\n"
   ]
  },
  {
   "cell_type": "code",
   "execution_count": 108,
   "id": "6343d99a",
   "metadata": {},
   "outputs": [],
   "source": [
    "# Machine 2 variables (del1, w1) quantum plot\n",
    "\n",
    "# plot(combined_qt, combined_qy3, xlabel = \"t\", ylabel = \"Machine 2\", label=\"del2\", xlims=(0, 20), legend=true)\n",
    "# plot!(combined_qt, combined_qy4,  label=\"w2\", xlims=(0, 20), legend=true)\n",
    "\n"
   ]
  },
  {
   "cell_type": "code",
   "execution_count": 109,
   "id": "e143c1c1",
   "metadata": {},
   "outputs": [],
   "source": [
    "# Machine 3 variables (del1, w1) classical plot\n",
    "\n",
    "# plot(combined_qt, combined_qy5, xlabel = \"t\", ylabel = \"Machine 3\", label=\"del3\", xlims=(0, 20), legend=true)\n",
    "# plot!(combined_qt, combined_qy6,  label=\"w3\", xlims=(0, 20), legend=true)"
   ]
  },
  {
   "cell_type": "code",
   "execution_count": 110,
   "id": "5f41ddd5",
   "metadata": {},
   "outputs": [],
   "source": []
  },
  {
   "cell_type": "code",
   "execution_count": 111,
   "id": "ddbd0842",
   "metadata": {},
   "outputs": [],
   "source": []
  }
 ],
 "metadata": {
  "kernelspec": {
   "display_name": "Julia 1.9.2",
   "language": "julia",
   "name": "julia-1.9"
  },
  "language_info": {
   "file_extension": ".jl",
   "mimetype": "application/julia",
   "name": "julia",
   "version": "1.9.2"
  }
 },
 "nbformat": 4,
 "nbformat_minor": 5
}
